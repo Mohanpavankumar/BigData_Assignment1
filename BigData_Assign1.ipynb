{
  "nbformat": 4,
  "nbformat_minor": 0,
  "metadata": {
    "colab": {
      "provenance": []
    },
    "kernelspec": {
      "name": "python3",
      "display_name": "Python 3"
    },
    "language_info": {
      "name": "python"
    }
  },
  "cells": [
    {
      "cell_type": "code",
      "execution_count": 7,
      "metadata": {
        "colab": {
          "base_uri": "https://localhost:8080/"
        },
        "id": "OBaXwym42qhm",
        "outputId": "7c0d55c5-4501-4b04-fd4f-28c58cf25f0a"
      },
      "outputs": [
        {
          "output_type": "stream",
          "name": "stdout",
          "text": [
            "Enter a string: python\n",
            "noht\n"
          ]
        }
      ],
      "source": [
        "# Step 1: Take input and convert to list\n",
        "input_str = input(\"Enter a string: \")\n",
        "char_list = list(input_str)\n",
        "\n",
        "# Step 2: Delete at least 2 characters (e.g., delete characters at index 0 and 1)\n",
        "# You can change these indices as needed\n",
        "del char_list[0]     # Remove 'p'\n",
        "del char_list[0]     # Remove 'y' (now at index 0 after first deletion)\n",
        "\n",
        "# Step 3: Reverse the resulting list\n",
        "char_list.reverse()\n",
        "\n",
        "# Step 4: Join and print\n",
        "result = ''.join(char_list)\n",
        "print(result)\n"
      ]
    },
    {
      "cell_type": "code",
      "source": [
        "# Take input from user and convert to float\n",
        "num1 = float(input(\"Enter first number: \"))\n",
        "num2 = float(input(\"Enter second number: \"))\n",
        "\n",
        "# Perform arithmetic operations\n",
        "addition = num1 + num2\n",
        "subtraction = num1 - num2\n",
        "multiplication = num1 * num2\n",
        "\n",
        "# Check for division by zero\n",
        "if num2 != 0:\n",
        "    division = num1 / num2\n",
        "else:\n",
        "    division = \"Undefined (cannot divide by zero)\"\n",
        "\n",
        "# Print results\n",
        "print(\"Addition:\", addition)\n",
        "print(\"Subtraction:\", subtraction)\n",
        "print(\"Multiplication:\", multiplication)\n",
        "print(\"Division:\", division)"
      ],
      "metadata": {
        "colab": {
          "base_uri": "https://localhost:8080/"
        },
        "id": "TFntNfF63kj5",
        "outputId": "9b748c33-b3e2-4c15-fb7b-8d568dd42ffd"
      },
      "execution_count": 8,
      "outputs": [
        {
          "output_type": "stream",
          "name": "stdout",
          "text": [
            "Enter first number: 10\n",
            "Enter second number: 15\n",
            "Addition: 25.0\n",
            "Subtraction: -5.0\n",
            "Multiplication: 150.0\n",
            "Division: 0.6666666666666666\n"
          ]
        }
      ]
    },
    {
      "cell_type": "code",
      "source": [
        "# Take sentence input from the user\n",
        "sentence = input(\"Enter a sentence: \")\n",
        "\n",
        "# Replace 'python' with 'pythons'\n",
        "updated_sentence = sentence.replace(\"python\", \"pythons\")\n",
        "\n",
        "# Print the result\n",
        "print(\"Updated sentence:\", updated_sentence)\n"
      ],
      "metadata": {
        "colab": {
          "base_uri": "https://localhost:8080/"
        },
        "id": "rgqh5vHS3vUq",
        "outputId": "db1f0eeb-6755-44a1-bc8c-34864418ed46"
      },
      "execution_count": 9,
      "outputs": [
        {
          "output_type": "stream",
          "name": "stdout",
          "text": [
            "Enter a sentence: I love playing with python\n",
            "Updated sentence: I love playing with pythons\n"
          ]
        }
      ]
    },
    {
      "cell_type": "code",
      "source": [
        "# Take input score from user\n",
        "score = float(input(\"Enter your class score (0-100): \"))\n",
        "\n",
        "# Determine the letter grade\n",
        "if score >= 90 and score <= 100:\n",
        "    grade = \"A\"\n",
        "elif score >= 80:\n",
        "    grade = \"B\"\n",
        "elif score >= 70:\n",
        "    grade = \"C\"\n",
        "elif score >= 60:\n",
        "    grade = \"D\"\n",
        "elif score >= 0:\n",
        "    grade = \"F\"\n",
        "else:\n",
        "    grade = \"Invalid score\"\n",
        "\n",
        "# Print the result\n",
        "print(\"Your grade is:\", grade)\n"
      ],
      "metadata": {
        "colab": {
          "base_uri": "https://localhost:8080/"
        },
        "id": "bD__HD644L_-",
        "outputId": "785add2d-af11-4ec5-c457-8040279882d7"
      },
      "execution_count": 10,
      "outputs": [
        {
          "output_type": "stream",
          "name": "stdout",
          "text": [
            "Enter your class score (0-100): 91\n",
            "Your grade is: A\n"
          ]
        }
      ]
    },
    {
      "cell_type": "code",
      "source": [
        "# Given input list\n",
        "x = [23, 'Python', 23.98]\n",
        "\n",
        "# Create a new list containing types of each element\n",
        "types = [type(item) for item in x]\n",
        "\n",
        "# Print the original list\n",
        "print(x)\n",
        "\n",
        "# Print the list of types\n",
        "print(types)\n"
      ],
      "metadata": {
        "colab": {
          "base_uri": "https://localhost:8080/"
        },
        "id": "2r2qZ0L74cjX",
        "outputId": "f73d106d-019d-43d1-b4ac-95d45f735301"
      },
      "execution_count": 11,
      "outputs": [
        {
          "output_type": "stream",
          "name": "stdout",
          "text": [
            "[23, 'Python', 23.98]\n",
            "[<class 'int'>, <class 'str'>, <class 'float'>]\n"
          ]
        }
      ]
    },
    {
      "cell_type": "code",
      "source": [
        "# Initial sets and list\n",
        "IT_companies = {'Facebook', 'Google', 'Microsoft', 'Apple', 'IBM', 'Oracle', 'Amazon'}\n",
        "A = {19, 22, 24, 20, 25, 26}\n",
        "B = {19, 22, 20, 25, 26, 24, 28, 27}\n",
        "age = [22, 19, 24, 25, 26, 24, 25, 24]\n",
        "\n",
        "# 1. Length of IT_companies\n",
        "print(\"Length of IT_companies:\", len(IT_companies))\n",
        "\n",
        "# 2. Add 'Twitter'\n",
        "IT_companies.add('Twitter')\n",
        "print(\"After adding Twitter:\", IT_companies)\n",
        "\n",
        "# 3. Insert multiple companies\n",
        "IT_companies.update(['Tesla', 'TCS', 'Infosys'])\n",
        "print(\"After adding multiple companies:\", IT_companies)\n",
        "\n",
        "# 4. Remove one company\n",
        "IT_companies.remove('Oracle')  # You can also try with discard\n",
        "print(\"After removing Oracle:\", IT_companies)\n",
        "\n",
        "# 5. Difference between remove and discard\n",
        "print(\"\"\"\n",
        "# 'remove' raises an error if the item does not exist.\n",
        "# 'discard' does not raise an error if the item is not found.\n",
        "\"\"\")\n",
        "\n",
        "# 6. Join A and B (union)\n",
        "joined_AB = A.union(B)\n",
        "print(\"Join A and B:\", joined_AB)\n",
        "\n",
        "# 7. Intersection of A and B\n",
        "print(\"A intersection B:\", A.intersection(B))\n",
        "\n",
        "# 8. Is A subset of B?\n",
        "print(\"Is A subset of B?\", A.issubset(B))\n",
        "\n",
        "# 9. Are A and B disjoint?\n",
        "print(\"Are A and B disjoint?\", A.isdisjoint(B))\n",
        "\n",
        "# 10. Join A with B and B with A\n",
        "print(\"A union B:\", A.union(B))\n",
        "print(\"B union A:\", B.union(A))\n",
        "\n",
        "# 11. Symmetric difference between A and B\n",
        "print(\"Symmetric difference between A and B:\", A.symmetric_difference(B))\n",
        "\n",
        "# 12. Delete sets completely\n",
        "del IT_companies\n",
        "del A\n",
        "del B\n",
        "\n",
        "# 13. Convert age list to a set and compare lengths\n",
        "age_set = set(age)\n",
        "print(\"Length of age list:\", len(age))\n",
        "print(\"Length of age set:\", len(age_set))\n"
      ],
      "metadata": {
        "colab": {
          "base_uri": "https://localhost:8080/"
        },
        "id": "vzji5Lfo4q-l",
        "outputId": "bff90307-7273-4615-bf23-e9a6958ac12d"
      },
      "execution_count": 12,
      "outputs": [
        {
          "output_type": "stream",
          "name": "stdout",
          "text": [
            "Length of IT_companies: 7\n",
            "After adding Twitter: {'Facebook', 'Microsoft', 'Oracle', 'Google', 'Apple', 'IBM', 'Twitter', 'Amazon'}\n",
            "After adding multiple companies: {'TCS', 'IBM', 'Facebook', 'Microsoft', 'Oracle', 'Apple', 'Tesla', 'Twitter', 'Infosys', 'Google', 'Amazon'}\n",
            "After removing Oracle: {'TCS', 'IBM', 'Facebook', 'Microsoft', 'Apple', 'Tesla', 'Twitter', 'Infosys', 'Google', 'Amazon'}\n",
            "\n",
            "# 'remove' raises an error if the item does not exist.\n",
            "# 'discard' does not raise an error if the item is not found.\n",
            "\n",
            "Join A and B: {19, 20, 22, 24, 25, 26, 27, 28}\n",
            "A intersection B: {19, 20, 22, 24, 25, 26}\n",
            "Is A subset of B? True\n",
            "Are A and B disjoint? False\n",
            "A union B: {19, 20, 22, 24, 25, 26, 27, 28}\n",
            "B union A: {19, 20, 22, 24, 25, 26, 27, 28}\n",
            "Symmetric difference between A and B: {27, 28}\n",
            "Length of age list: 8\n",
            "Length of age set: 5\n"
          ]
        }
      ]
    }
  ]
}